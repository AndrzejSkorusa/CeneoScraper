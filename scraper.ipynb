{
 "cells": [
  {
   "cell_type": "markdown",
   "metadata": {},
   "source": [
    "Produkty:\n",
    "1. 63717975\n",
    "2. 124893467\n",
    "3. 108481121\n",
    "4. 114228736\n",
    "5. 28020568"
   ]
  },
  {
   "cell_type": "code",
   "execution_count": 1,
   "metadata": {},
   "outputs": [
    {
     "ename": "ModuleNotFoundError",
     "evalue": "No module named 'requests'",
     "output_type": "error",
     "traceback": [
      "\u001b[1;31m---------------------------------------------------------------------------\u001b[0m",
      "\u001b[1;31mModuleNotFoundError\u001b[0m                       Traceback (most recent call last)",
      "Cell \u001b[1;32mIn[1], line 1\u001b[0m\n\u001b[1;32m----> 1\u001b[0m \u001b[38;5;28;01mimport\u001b[39;00m \u001b[38;5;21;01mrequests\u001b[39;00m\u001b[38;5;241m,\u001b[39m \u001b[38;5;21;01mos\u001b[39;00m\u001b[38;5;241m,\u001b[39m \u001b[38;5;21;01mjson\u001b[39;00m\n\u001b[0;32m      2\u001b[0m \u001b[38;5;28;01mfrom\u001b[39;00m \u001b[38;5;21;01mbs4\u001b[39;00m \u001b[38;5;28;01mimport\u001b[39;00m BeautifulSoup\n",
      "\u001b[1;31mModuleNotFoundError\u001b[0m: No module named 'requests'"
     ]
    }
   ],
   "source": [
    "import requests, os, json\n",
    "from bs4 import BeautifulSoup"
   ]
  },
  {
   "cell_type": "code",
   "execution_count": null,
   "metadata": {},
   "outputs": [],
   "source": [
    "product_code = input(\"Podaj kod produktu: \")\n",
    "url = f\"https://www.ceneo.pl/{product_code}#tab=reviews\""
   ]
  },
  {
   "cell_type": "code",
   "execution_count": null,
   "metadata": {},
   "outputs": [],
   "source": [
    "def get_data(ancestor, selector, attribute=None, return_list=False):\n",
    "     if return_list:\n",
    "          return [tag.text.strip() for tag in ancestor.select(selector)] \n",
    "     if attribute:\n",
    "          if selector:\n",
    "               try:\n",
    "                    return ancestor.select_one(selector)[attribute].strip()\n",
    "               except TypeError:\n",
    "                    return None\n",
    "          return ancestor[attribute].strip()\n",
    "     try:\n",
    "          return ancestor.select_one(selector).text.strip()\n",
    "     except AttributeError:\n",
    "          return None"
   ]
  },
  {
   "cell_type": "code",
   "execution_count": null,
   "metadata": {},
   "outputs": [],
   "source": [
    "selectors = {\n",
    "            'opinion_id':(None, \"data-entry-id\"),\n",
    "            'author': (\"span.user-post__author-name\",),\n",
    "            'recommendation': (\"span.user-post__author-name\",),\n",
    "            'stars': (\"span.user-post__score-count\",),\n",
    "            'content': (\"div.user-post__text\",),\n",
    "            'pros': (\"div.review-feature__title--positives ~ div.review-feature__item\", None, True),\n",
    "            'cons': (\"div.review-feature__title--negatives ~ div.review-feature__item\", None, True),\n",
    "            'post_date': (\"span.user-post__published > time:nth-child(1)\", \"datetime\"),\n",
    "            'purchase_date': (\"span.user-post__published > time:nth-child(2)\", \"datetime\"),\n",
    "            'useful': (\"button.vote-yes > span\",),\n",
    "            'useless': (\"button.vote-no > span\",)\n",
    "        }"
   ]
  },
  {
   "cell_type": "code",
   "execution_count": null,
   "metadata": {},
   "outputs": [
    {
     "name": "stdout",
     "output_type": "stream",
     "text": [
      "https://www.ceneo.pl/28020568#tab=reviews\n",
      "https://ceneo.pl/28020568/opinie-2\n",
      "https://ceneo.pl/28020568/opinie-3\n",
      "https://ceneo.pl/28020568/opinie-4\n",
      "https://ceneo.pl/28020568/opinie-5\n"
     ]
    }
   ],
   "source": [
    "all_opinions=[]\n",
    "while(url):\n",
    "    print(url)\n",
    "    response = requests.get(url)\n",
    "    page = BeautifulSoup(response.text, \"html.parser\")\n",
    "    opinions = page.select(\"div.js_product-review\") \n",
    "    for opinion in opinions:\n",
    "        single_opinion = {\n",
    "            key: get_data(opinion, *value)\n",
    "                for key, value in selectors.items()\n",
    "        }\n",
    "    all_opinions.append(single_opinion)\n",
    "    try:\n",
    "        url = \"https://ceneo.pl\"+page.select_one(\"a.pagination__next\")[\"href\"]\n",
    "    except TypeError:\n",
    "        url = None"
   ]
  },
  {
   "cell_type": "code",
   "execution_count": null,
   "metadata": {},
   "outputs": [],
   "source": [
    "\n",
    "if not os.path.exists(\"opinions\"):\n",
    "    os.mkdir(\"opinions\")\n",
    "jf = open(f\"opinions/{product_code}.json\",\"w\",encoding=\"UTF-8\")\n",
    "json.dump(all_opinions, jf, indent=4, ensure_ascii=False)\n",
    "jf.close()"
   ]
  }
 ],
 "metadata": {
  "kernelspec": {
   "display_name": ".venv",
   "language": "python",
   "name": "python3"
  },
  "language_info": {
   "codemirror_mode": {
    "name": "ipython",
    "version": 3
   },
   "file_extension": ".py",
   "mimetype": "text/x-python",
   "name": "python",
   "nbconvert_exporter": "python",
   "pygments_lexer": "ipython3",
   "version": "3.12.0"
  }
 },
 "nbformat": 4,
 "nbformat_minor": 2
}
